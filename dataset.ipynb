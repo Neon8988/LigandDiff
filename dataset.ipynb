{
 "cells": [
  {
   "cell_type": "code",
   "execution_count": null,
   "metadata": {},
   "outputs": [],
   "source": [
    "import pandas as pd\n",
    "import numpy as np\n",
    "import pickle\n",
    "import os\n",
    "import torch\n",
    "from molSimplify.Classes.mol3D import mol3D\n",
    "from molSimplify.Classes.ligand import ligand_breakdown,get_lig_symmetry,ligand\n",
    "from torch_geometric.data import Data"
   ]
  },
  {
   "cell_type": "code",
   "execution_count": null,
   "metadata": {},
   "outputs": [],
   "source": [
    "GEOM_ATOM2IDX = {'H':0,'C': 1, 'N': 2, 'O': 3, 'S': 4, 'Br': 5, 'Cl': 6, 'P': 7, 'F': 8,'metal':9}\n",
    "\n",
    "GEOM_CHARGES = {'H':1,'C': 6, 'O': 8, 'N': 7, 'S': 16, 'Cl': 17, 'P': 15, 'Br': 35, 'F': 9}\n",
    "metals={'Ru':44,'Pt':78,'Pd':46}\n",
    "data=[]\n",
    "l_num=0\n",
    "for filename in os.listdir('../xyz'):\n",
    "    with open(f'../xyz/{filename}','r+') as f:\n",
    "        label=filename[:-4]\n",
    "        ele=[]\n",
    "        pos=[]\n",
    "        nuclear_charges=[]\n",
    "        lines=f.readlines()\n",
    "        num_atoms=int(lines[0])\n",
    "        #total_charge=float(lines[1].split()[0])\n",
    "        one_hot=torch.zeros(num_atoms,10)\n",
    "        metal=lines[2].split()[0]\n",
    "        ele.append(GEOM_ATOM2IDX['metal'])\n",
    "        nuclear_charges.append(metals[metal])\n",
    "        pos.append([float(j) for j in lines[2].split()[1:]])\n",
    "        for i in lines[3:]:\n",
    "            ele.append(GEOM_ATOM2IDX[i.split()[0]])\n",
    "            nuclear_charges.append(GEOM_CHARGES[i.split()[0]])\n",
    "            pos.append([float(j) for j in i.split()[1:]])\n",
    "        one_hot[range(len(ele)),ele]=1\n",
    "        one_hot=one_hot[:,:-1]\n",
    "        pos=torch.tensor(pos)\n",
    "        nuclear_charges=torch.tensor(nuclear_charges)\n",
    "    my_mol=mol3D()\n",
    "    my_mol.readfromxyz(f'../xyz/{filename}')\n",
    "    liglist,ligdents,ligcon=ligand_breakdown(my_mol,silent=True,BondedOct=True)\n",
    "    f_group=torch.zeros(num_atoms)\n",
    "    for i in range(len(liglist)):\n",
    "        f_group[liglist[i]]=i+1   \n",
    "\n",
    "    ligand_group=torch.zeros((num_atoms,7) )\n",
    "    ligand_group[range(len(f_group.long())),f_group.long()]=1\n",
    "\n",
    "    anchor_group=torch.zeros(num_atoms)\n",
    "    for i in range(len(ligcon)):\n",
    "        anchor_group[ligcon[i]]=i+1\n",
    "    anchors_group=torch.zeros((num_atoms,7) )\n",
    "    anchors_group[range(len(anchor_group.long())),anchor_group.long()]=1\n",
    "    for k in range(len(liglist)):\n",
    "        anchors=torch.zeros(num_atoms)\n",
    "        ligand=torch.zeros(num_atoms)\n",
    "        for i in ligcon[k]:\n",
    "            anchors[i]=1\n",
    "        for i in liglist[k]:\n",
    "            ligand[i]=1\n",
    "    \n",
    "        dicts={'label':label,'natoms':num_atoms,'one_hot':one_hot,'pos':pos,'nuclear_charges':nuclear_charges,'anchors':anchors,'ligand_diff':ligand,'ligand_group':ligand_group[:,1:],'anchor_group':anchors_group[:,1:]}\n",
    "        data.append(dicts)"
   ]
  },
  {
   "cell_type": "code",
   "execution_count": null,
   "metadata": {},
   "outputs": [],
   "source": [
    "data_list=[]\n",
    "for i in data:\n",
    "    positions = i['pos']\n",
    "    label = i['label']\n",
    "    one_hot = i['one_hot']\n",
    "    context = 1-i['ligand_diff']\n",
    "    nuclear_charges =i['charges']\n",
    "    coord_site = i['anchors']\n",
    "    ligand_diff = i['ligand_diff']\n",
    "    num_atoms = i['num_atoms']\n",
    "    ligand_group= i['ligand_group']\n",
    "    single_TMC = Data(pos=positions,label=label,  context=context,  nuclear_charges=nuclear_charges, coord_site=coord_site, ligand_diff=ligand_diff, num_atoms=num_atoms, one_hot=one_hot, ligand_group=ligand_group)\n",
    "    data_list.append(single_TMC)\n",
    "\n",
    "torch.save(data_list,'ppr.pt')"
   ]
  },
  {
   "cell_type": "code",
   "execution_count": null,
   "metadata": {},
   "outputs": [],
   "source": []
  }
 ],
 "metadata": {
  "kernelspec": {
   "display_name": "Python 3",
   "language": "python",
   "name": "python3"
  },
  "language_info": {
   "codemirror_mode": {
    "name": "ipython",
    "version": 3
   },
   "file_extension": ".py",
   "mimetype": "text/x-python",
   "name": "python",
   "nbconvert_exporter": "python",
   "pygments_lexer": "ipython3",
   "version": "3.11.3"
  }
 },
 "nbformat": 4,
 "nbformat_minor": 2
}
